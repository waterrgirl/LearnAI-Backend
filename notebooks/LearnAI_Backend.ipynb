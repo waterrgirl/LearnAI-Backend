{
  "cells": [
    {
      "cell_type": "markdown",
      "metadata": {
        "colab_type": "text",
        "id": "view-in-github"
      },
      "source": [
        "<a href=\"https://colab.research.google.com/github/waterrgirl/LearnAI-Backend/blob/main/LearnAI_Backend.ipynb\" target=\"_parent\"><img src=\"https://colab.research.google.com/assets/colab-badge.svg\" alt=\"Open In Colab\"/></a>"
      ]
    },
    {
      "cell_type": "code",
      "execution_count": null,
      "metadata": {
        "colab": {
          "base_uri": "https://localhost:8080/"
        },
        "id": "Sl-0bOc_W7Gt",
        "outputId": "f83c3565-412f-48a6-8053-249b575c1b53"
      },
      "outputs": [
        {
          "name": "stdout",
          "output_type": "stream",
          "text": [
            "Overwriting app.py\n"
          ]
        }
      ],
      "source": [
        "!pip install flask flask-cors pyngrok\n",
        "from flask import Flask, jsonify, request\n",
        "from flask_cors import CORS\n",
        "from pyngrok import ngrok\n",
        "\n",
        "# Set your ngrok authtoken\n",
        "ngrok.set_auth_token(\"2uarnvaygW75bBBGIEMG3ZOPqB2_ChDfLvvQHhBzoAQpfptp\")\n",
        "\n",
        "# Initialize Flask app\n",
        "app = Flask(__name__)\n",
        "CORS(app)\n",
        "\n",
        "# Open a public URL for the Flask server\n",
        "public_url = ngrok.connect(5000).public_url\n",
        "print(f\"Public URL: {public_url}\")\n",
        "\n",
        "@app.route('/')\n",
        "def home():\n",
        "    return jsonify({\"message\": \"Flask backend is running on Google Colab!\"})\n",
        "\n",
        "# Example API to Add a Task\n",
        "tasks = []\n",
        "\n",
        "@app.route('/add-task', methods=['POST'])\n",
        "def add_task():\n",
        "    data = request.json\n",
        "    task = {\n",
        "        \"id\": len(tasks) + 1,\n",
        "        \"title\": data.get(\"title\"),\n",
        "        \"deadline\": data.get(\"deadline\"),\n",
        "        \"priority\": data.get(\"priority\", \"Low\"),\n",
        "        \"completed\": False\n",
        "    }\n",
        "    tasks.append(task)\n",
        "    return jsonify({\"message\": \"Task added successfully!\", \"task\": task}), 201\n",
        "\n",
        "# Start Flask server\n",
        "app.run(port=5000)\n"
      ]
    }
  ],
  "metadata": {
    "colab": {
      "authorship_tag": "ABX9TyMCaw/vvEahgCg+xxykXdGy",
      "include_colab_link": true,
      "provenance": []
    },
    "kernelspec": {
      "display_name": "Python 3",
      "name": "python3"
    },
    "language_info": {
      "name": "python"
    }
  },
  "nbformat": 4,
  "nbformat_minor": 0
}
